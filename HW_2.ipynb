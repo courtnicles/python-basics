{
 "cells": [
  {
   "cell_type": "markdown",
   "metadata": {
    "id": "CPJq5Q5-SQp0"
   },
   "source": [
    "# Q1 \n",
    "**(10%)** There are many activations utilized in DL, e.g., sigmoid, ReLU, SeLU, etc. Can you compare their pros and cons? Please also address proper application contexts for each activation function."
   ]
  },
  {
   "cell_type": "markdown",
   "metadata": {
    "id": "F9n26aUETwTF"
   },
   "source": [
    "|    Name   |                                                                            Pro                                                                            |                                                   Cons                                                   |\n",
    "|:---------:|:---------------------------------------------------------------------------------------------------------------------------------------------------------:|:--------------------------------------------------------------------------------------------------------:|\n",
    "| **Step** | Good to use at output layer for binary classification |     Derivative=0, no learning |\n",
    "|**Linear** | It gives a range of activations, so it is not binary activation.<br> We can definitely connect a few neurons together and if more than 1 fires,<br> we could take the max ( or softmax) and decide based on that.  |     For this function, derivative is a constant. That means, the gradient has no relationship with X. <br> It is a constant gradient and the descent is going to be on constant gradient. <br> If there is an error in prediction, the changes made by back propagation is <br> constant and not depending on the change in input delta(x) !   |\n",
    "| **ELU** | ELU becomes smooth slowly until its output equal to -α whereas RELU sharply smoothes. <br> ELU is a strong alternative to ReLU. <br> Unlike to ReLU, ELU can produce negative outputs. | For x > 0, it can blow up the activation with the output range of [0, inf]. |\n",
    "| **Sigmoid** | It is nonlinear in nature. Combinations of this function are also nonlinear! <br> It will give an analog activation unlike step function. <br> It has a smooth gradient too. <br> It’s good for a classifier. <br> The output of the activation function is always going to be in range (0,1) compared to <br> (-inf, inf) of linear function.<br> So we have our activations bound in a range. Nice, it won’t blow up the activations then. | Towards either end of the sigmoid function, the Y values tend to respond very less to changes in X. <br> It gives rise to a problem of “vanishing gradients”. <br> Its output isn’t zero centered. It makes the gradient updates go too far in <br> different directions. 0 < output < 1, and it makes optimization harder. <br> Sigmoids saturate and kill gradients. <br> The network refuses to learn further or is drastically slow ( depending on use case and <br> until gradient /computation gets hit by floating point value limits ). |\n",
    "| **Tanh** | The gradient is stronger for tanh than sigmoid ( derivatives are steeper). | Tanh also has the vanishing gradient problem. |\n",
    "| **ReLU** | It avoids and rectifies vanishing gradient problem.<br>ReLu is less computationally expensive than tanh and sigmoid<br> because it involves simpler mathematical operations. | One of its limitation is that it should only be used within Hidden layers of a Neural Network Model. <br> Some gradients can be fragile during training and can die.<br> It can cause a weight update which will makes it never activate on any data point again. <br> Simply saying that ReLu could result in Dead Neurons. <br> In another words, For activations in the region (x < 0) of ReLu, gradient will be 0 <br> because of which the weights will not get adjusted during descent.<br> That means, those neurons which go into that state will stop responding to <br> variations in error/ input ( simply because gradient is 0, nothing changes ). This is called dying ReLu problem. <br> The range of ReLu is [0, inf). This means it can blow up the activation. |\n",
    "| **LeakyReLU** | Leaky ReLUs are one attempt to fix the “dying ReLU” problem by <br> having a small negative slope (of 0.01, or so). | As it possess linearity, it can’t be used for the complex Classification.<br> It lags behind the Sigmoid and Tanh for some of the use cases. |\n",
    "|  **Softmax**  | Similar to Sigmoid<br>Good to use at output layer for multi-class problems since it<br>convert input matrix into probability matrix | Should not be used in hidden layer.<br>It makes your hidden variable linear separable -> less generalize |\n",
    "\n",
    "\n",
    "\n",
    "---\n",
    "---\n",
    "Reference: https://ml-cheatsheet.readthedocs.io/en/latest/activation_functions.html, https://missinglink.ai/guides/neural-network-concepts/7-types-neural-network-activation-functions-right/\n",
    "\n",
    "\n",
    "\n"
   ]
  },
  {
   "cell_type": "markdown",
   "metadata": {
    "id": "O2IRPQVpSl8V"
   },
   "source": [
    "# Q2\n",
    "**(10%)** How to avoid overfitting at DNN model? Please discuss at least three ways and compare them."
   ]
  },
  {
   "cell_type": "markdown",
   "metadata": {
    "id": "y7EVcHGB9ByG"
   },
   "source": [
    "There are many ways to avoid overfitting.\n",
    "\n",
    "\n",
    "1. **Simplifying the Model:** The first step when dealing with overfitting is to decrease the complexity of the model. To decrease the complexity, we can simply remove layers or reduce the number of neurons to make the network smaller.\n",
    "2. **Early Stopping:** Early stopping is a form of regularization while training a model with an iterative method, such as gradient descent. Since all the neural networks learn exclusively by using gradient descent, early stopping is a technique applicable to all the problems. This method update the model so as to make it better fit the training data with each iteration.\n",
    "3. **Data Augmentation:** In the case of neural networks, data augmentation simply means increasing size of the data that is increasing the number of images present in the dataset. Some of the popular image augmentation techniques are flipping, translation, rotation, scaling, changing brightness, adding noise etcetera. \n",
    "4. **Regularization:** Regularization is a technique to reduce the complexity of the model. It does so by adding a penalty term to the loss function. The most common techniques are known as L1 and L2 regularization.\n",
    "5. **Dropouts:** Dropout is a regularization technique that prevents neural networks from overfitting. Regularization methods like L1 and L2 reduce overfitting by modifying the cost function. Dropout on the other hand, modify the network itself. It randomly drops neurons from the neural network during training in each iteration.\n",
    "\n",
    "Reference: https://www.kdnuggets.com/2019/12/5-techniques-prevent-overfitting-neural-networks.html\n",
    "\n",
    "\n"
   ]
  },
  {
   "cell_type": "markdown",
   "metadata": {
    "id": "6x0r_G9-SxWM"
   },
   "source": [
    "# Q3\n",
    "**(10%)** How to use Data Normalization to improve DNN model training and performance? Please discuss at least two methods and compare them."
   ]
  },
  {
   "cell_type": "markdown",
   "metadata": {
    "id": "JjQVD1enlu3M"
   },
   "source": [
    "The goal of normalization is to transform features to be on a similar scale. This improves the performance and training stability of the model.\n",
    "\n",
    "Four common normalization techniques may be useful:\n",
    "\n",
    "1. **Scaling to a range:** Recall from MLCC that scaling means converting floating-point feature values from their natural range (for example, 100 to 900) into a standard range—usually 0 and 1 (or sometimes -1 to +1).\n",
    "2. **Clipping:** If your data set contains extreme outliers, you might try feature clipping, which caps all feature values above (or below) a certain value to fixed value.\n",
    "3. **Log scaling:** Log scaling computes the log of your values to compress a wide range to a narrow range.\n",
    "4. **Z-score:** Z-score is a variation of scaling that represents the number of standard deviations away from the mean. You would use z-score to ensure your feature distributions have mean = 0 and std = 1.\n",
    "\n",
    "Reference: https://developers.google.com/machine-learning/data-prep/transform/normalization\n",
    "\n",
    "\n",
    "\n",
    "\n"
   ]
  },
  {
   "cell_type": "markdown",
   "metadata": {
    "id": "edb3GHDuS7QY"
   },
   "source": [
    "# Q4\n",
    "**(40%, coding assignment)** Train a deep MLP to perform regression task to predict price based on the California housing dataset (you can load it from https://scikit-learn.org/stable/modules/generated/sklearn.datasets.fetch_california_housing.html). Try tuning parameters, layers, neurons, activation functions, learning rate, etc. Find your best tuned model and plot learning curves, as we show at our coding demo during class. "
   ]
  },
  {
   "cell_type": "code",
   "execution_count": 33,
   "metadata": {
    "executionInfo": {
     "elapsed": 459,
     "status": "ok",
     "timestamp": 1601489575296,
     "user": {
      "displayName": "Karan Patel",
      "photoUrl": "https://lh3.googleusercontent.com/a-/AOh14Gh6USvrkC1WDJLXABRiiQssfLktpj2vmoGMCfwA=s64",
      "userId": "05155596743294170724"
     },
     "user_tz": 420
    },
    "id": "gx3FW-UEBvmC"
   },
   "outputs": [],
   "source": [
    "from sklearn.datasets import fetch_california_housing\n",
    "from sklearn.model_selection import train_test_split\n",
    "from sklearn.preprocessing import StandardScaler\n",
    "import matplotlib.pyplot as plt"
   ]
  },
  {
   "cell_type": "code",
   "execution_count": 3,
   "metadata": {
    "colab": {
     "base_uri": "https://localhost:8080/",
     "height": 34
    },
    "executionInfo": {
     "elapsed": 2281,
     "status": "ok",
     "timestamp": 1601487668104,
     "user": {
      "displayName": "Karan Patel",
      "photoUrl": "https://lh3.googleusercontent.com/a-/AOh14Gh6USvrkC1WDJLXABRiiQssfLktpj2vmoGMCfwA=s64",
      "userId": "05155596743294170724"
     },
     "user_tz": 420
    },
    "id": "qfwXojrgBw8h",
    "outputId": "6d53ef22-4d15-451a-a0c3-0fa3af7a6ae1"
   },
   "outputs": [
    {
     "name": "stderr",
     "output_type": "stream",
     "text": [
      "Downloading Cal. housing from https://ndownloader.figshare.com/files/5976036 to /root/scikit_learn_data\n"
     ]
    }
   ],
   "source": [
    "housing_datasets = fetch_california_housing()"
   ]
  },
  {
   "cell_type": "code",
   "execution_count": 4,
   "metadata": {
    "executionInfo": {
     "elapsed": 1774,
     "status": "ok",
     "timestamp": 1601487668107,
     "user": {
      "displayName": "Karan Patel",
      "photoUrl": "https://lh3.googleusercontent.com/a-/AOh14Gh6USvrkC1WDJLXABRiiQssfLktpj2vmoGMCfwA=s64",
      "userId": "05155596743294170724"
     },
     "user_tz": 420
    },
    "id": "9njhsN5NB7kz"
   },
   "outputs": [],
   "source": [
    "x_train_full, x_test, y_train_full, y_test = train_test_split(housing_datasets.data, housing_datasets.target)\n",
    "x_train, x_validation, y_train, y_validation = train_test_split(x_train_full, y_train_full)"
   ]
  },
  {
   "cell_type": "code",
   "execution_count": 5,
   "metadata": {
    "executionInfo": {
     "elapsed": 902,
     "status": "ok",
     "timestamp": 1601487668108,
     "user": {
      "displayName": "Karan Patel",
      "photoUrl": "https://lh3.googleusercontent.com/a-/AOh14Gh6USvrkC1WDJLXABRiiQssfLktpj2vmoGMCfwA=s64",
      "userId": "05155596743294170724"
     },
     "user_tz": 420
    },
    "id": "99CPsJKOCW5Q"
   },
   "outputs": [],
   "source": [
    "scaler = StandardScaler()\n",
    "x_train = scaler.fit_transform(x_train)\n",
    "x_validation = scaler.fit_transform(x_validation)\n",
    "x_test = scaler.fit_transform(x_test)"
   ]
  },
  {
   "cell_type": "code",
   "execution_count": 27,
   "metadata": {
    "executionInfo": {
     "elapsed": 380,
     "status": "ok",
     "timestamp": 1601489151031,
     "user": {
      "displayName": "Karan Patel",
      "photoUrl": "https://lh3.googleusercontent.com/a-/AOh14Gh6USvrkC1WDJLXABRiiQssfLktpj2vmoGMCfwA=s64",
      "userId": "05155596743294170724"
     },
     "user_tz": 420
    },
    "id": "KmXw8Kq1SrXo"
   },
   "outputs": [],
   "source": [
    "from keras.models import Sequential\n",
    "from keras.layers import Dense\n",
    "\n",
    "model = Sequential()\n",
    "model.add(Dense(640,activation='relu',  input_shape = x_train.shape[1:]))\n",
    "model.add(Dense(320,activation='relu'))\n",
    "model.add(Dense(160,activation='relu'))\n",
    "model.add(Dense(80,activation='relu'))\n",
    "model.add(Dense(40,activation='relu'))\n",
    "model.add(Dense(20,activation='relu'))\n",
    "model.add(Dense(10))"
   ]
  },
  {
   "cell_type": "code",
   "execution_count": 29,
   "metadata": {
    "colab": {
     "base_uri": "https://localhost:8080/",
     "height": 697
    },
    "executionInfo": {
     "elapsed": 41568,
     "status": "ok",
     "timestamp": 1601489194902,
     "user": {
      "displayName": "Karan Patel",
      "photoUrl": "https://lh3.googleusercontent.com/a-/AOh14Gh6USvrkC1WDJLXABRiiQssfLktpj2vmoGMCfwA=s64",
      "userId": "05155596743294170724"
     },
     "user_tz": 420
    },
    "id": "HeJBo2jYChcZ",
    "outputId": "7a3d519e-0c1e-4b93-9395-f754de8642b1"
   },
   "outputs": [
    {
     "name": "stdout",
     "output_type": "stream",
     "text": [
      "Epoch 1/20\n",
      "363/363 [==============================] - 2s 5ms/step - loss: 1.2562 - mae: 0.7717 - val_loss: 0.4796 - val_mae: 0.4974\n",
      "Epoch 2/20\n",
      "363/363 [==============================] - 2s 5ms/step - loss: 0.4292 - mae: 0.4681 - val_loss: 0.3956 - val_mae: 0.4355\n",
      "Epoch 3/20\n",
      "363/363 [==============================] - 2s 5ms/step - loss: 0.3916 - mae: 0.4470 - val_loss: 0.3946 - val_mae: 0.4320\n",
      "Epoch 4/20\n",
      "363/363 [==============================] - 2s 5ms/step - loss: 0.3730 - mae: 0.4335 - val_loss: 0.3910 - val_mae: 0.4514\n",
      "Epoch 5/20\n",
      "363/363 [==============================] - 2s 5ms/step - loss: 0.3611 - mae: 0.4268 - val_loss: 0.3466 - val_mae: 0.4097\n",
      "Epoch 6/20\n",
      "363/363 [==============================] - 2s 5ms/step - loss: 0.3534 - mae: 0.4200 - val_loss: 0.3538 - val_mae: 0.4021\n",
      "Epoch 7/20\n",
      "363/363 [==============================] - 2s 5ms/step - loss: 0.3444 - mae: 0.4148 - val_loss: 0.3413 - val_mae: 0.4015\n",
      "Epoch 8/20\n",
      "363/363 [==============================] - 2s 5ms/step - loss: 0.3369 - mae: 0.4088 - val_loss: 0.3252 - val_mae: 0.3938\n",
      "Epoch 9/20\n",
      "363/363 [==============================] - 2s 5ms/step - loss: 0.3257 - mae: 0.4017 - val_loss: 0.3545 - val_mae: 0.4195\n",
      "Epoch 10/20\n",
      "363/363 [==============================] - 2s 5ms/step - loss: 0.3230 - mae: 0.3997 - val_loss: 0.3619 - val_mae: 0.4281\n",
      "Epoch 11/20\n",
      "363/363 [==============================] - 2s 5ms/step - loss: 0.3157 - mae: 0.3956 - val_loss: 0.4778 - val_mae: 0.4815\n",
      "Epoch 12/20\n",
      "363/363 [==============================] - 2s 5ms/step - loss: 0.3175 - mae: 0.3953 - val_loss: 0.3279 - val_mae: 0.4011\n",
      "Epoch 13/20\n",
      "363/363 [==============================] - 2s 5ms/step - loss: 0.3065 - mae: 0.3875 - val_loss: 0.3583 - val_mae: 0.4245\n",
      "Epoch 14/20\n",
      "363/363 [==============================] - 2s 5ms/step - loss: 0.3068 - mae: 0.3864 - val_loss: 0.3205 - val_mae: 0.3864\n",
      "Epoch 15/20\n",
      "363/363 [==============================] - 2s 6ms/step - loss: 0.2996 - mae: 0.3808 - val_loss: 0.3806 - val_mae: 0.4349\n",
      "Epoch 16/20\n",
      "363/363 [==============================] - 3s 10ms/step - loss: 0.2973 - mae: 0.3803 - val_loss: 0.3134 - val_mae: 0.3843\n",
      "Epoch 17/20\n",
      "363/363 [==============================] - 3s 9ms/step - loss: 0.2942 - mae: 0.3778 - val_loss: 0.3614 - val_mae: 0.4298\n",
      "Epoch 18/20\n",
      "363/363 [==============================] - 3s 9ms/step - loss: 0.2908 - mae: 0.3757 - val_loss: 0.3074 - val_mae: 0.3817\n",
      "Epoch 19/20\n",
      "363/363 [==============================] - 2s 5ms/step - loss: 0.2875 - mae: 0.3721 - val_loss: 0.3620 - val_mae: 0.4307\n",
      "Epoch 20/20\n",
      "363/363 [==============================] - 2s 5ms/step - loss: 0.2892 - mae: 0.3720 - val_loss: 0.3067 - val_mae: 0.3742\n"
     ]
    }
   ],
   "source": [
    "model.compile(loss = \"mse\", optimizer = 'sgd', metrics=['mae'])\n",
    "history = model.fit(x_train, y_train, epochs=20,validation_data=(x_validation, y_validation))"
   ]
  },
  {
   "cell_type": "code",
   "execution_count": 30,
   "metadata": {
    "colab": {
     "base_uri": "https://localhost:8080/",
     "height": 255
    },
    "executionInfo": {
     "elapsed": 892,
     "status": "ok",
     "timestamp": 1601489200583,
     "user": {
      "displayName": "Karan Patel",
      "photoUrl": "https://lh3.googleusercontent.com/a-/AOh14Gh6USvrkC1WDJLXABRiiQssfLktpj2vmoGMCfwA=s64",
      "userId": "05155596743294170724"
     },
     "user_tz": 420
    },
    "id": "-sn-kjsgCu_b",
    "outputId": "156bcf70-5458-41cd-dcd7-ab440c58e767"
   },
   "outputs": [
    {
     "name": "stdout",
     "output_type": "stream",
     "text": [
      "162/162 [==============================] - 0s 2ms/step - loss: 3.5466 - mae: 1.2606\n"
     ]
    },
    {
     "data": {
      "text/plain": [
       "array([[ 1.4749289 ,  1.4602829 ,  1.4516387 , ...,  1.4619161 ,\n",
       "         1.4761207 ,  1.4552566 ],\n",
       "       [ 1.3168843 ,  1.3085206 ,  1.3136494 , ...,  1.3038448 ,\n",
       "         1.3028853 ,  1.312368  ],\n",
       "       [ 0.7970395 ,  0.7838004 ,  0.77675545, ...,  0.7800964 ,\n",
       "         0.784365  ,  0.7713324 ],\n",
       "       ...,\n",
       "       [ 1.0805212 ,  1.0803721 ,  1.0662996 , ...,  1.0676451 ,\n",
       "         1.1105132 ,  1.0766976 ],\n",
       "       [10.499419  ,  9.900435  , 10.043178  , ..., 10.42293   ,\n",
       "         9.913398  ,  9.892415  ],\n",
       "       [ 1.3746393 ,  1.3706554 ,  1.3714339 , ...,  1.3615589 ,\n",
       "         1.3332908 ,  1.3699656 ]], dtype=float32)"
      ]
     },
     "execution_count": 30,
     "metadata": {
      "tags": []
     },
     "output_type": "execute_result"
    }
   ],
   "source": [
    "mean_squared_error_test = model.evaluate(x_test, y_test)\n",
    "x_new = x_test # New instance\n",
    "y_pred = model.predict(x_new)\n",
    "y_pred"
   ]
  },
  {
   "cell_type": "code",
   "execution_count": 38,
   "metadata": {
    "colab": {
     "base_uri": "https://localhost:8080/",
     "height": 365
    },
    "executionInfo": {
     "elapsed": 699,
     "status": "ok",
     "timestamp": 1601491641147,
     "user": {
      "displayName": "Karan Patel",
      "photoUrl": "https://lh3.googleusercontent.com/a-/AOh14Gh6USvrkC1WDJLXABRiiQssfLktpj2vmoGMCfwA=s64",
      "userId": "05155596743294170724"
     },
     "user_tz": 420
    },
    "id": "BU9kAabXIBxw",
    "outputId": "906f3963-1b2f-413e-b312-f2018fa5eab7"
   },
   "outputs": [
    {
     "data": {
      "image/png": "[encoded data removed]",
      "text/plain": [
       "<Figure size 576x360 with 1 Axes>"
      ]
     },
     "metadata": {
      "needs_background": "light",
      "tags": []
     },
     "output_type": "display_data"
    }
   ],
   "source": [
    "plt.plot(history.history['loss'])\n",
    "plt.plot(history.history['val_loss'])\n",
    "\n",
    "max_loss= max(history.history['loss'])+0.1\n",
    "plt.gca().set_ylim(0, max_loss)\n",
    "\n",
    "plt.title('Learning Curve: Loss\\n')\n",
    "plt.ylabel('Loss')\n",
    "plt.xlabel('Epoch')\n",
    "plt.legend(['train', 'validation'])\n",
    "plt.gcf().set_size_inches(8, 5)\n",
    "plt.grid(True)\n",
    "plt.show()"
   ]
  },
  {
   "cell_type": "code",
   "execution_count": 39,
   "metadata": {
    "colab": {
     "base_uri": "https://localhost:8080/",
     "height": 365
    },
    "executionInfo": {
     "elapsed": 608,
     "status": "ok",
     "timestamp": 1601491644939,
     "user": {
      "displayName": "Karan Patel",
      "photoUrl": "https://lh3.googleusercontent.com/a-/AOh14Gh6USvrkC1WDJLXABRiiQssfLktpj2vmoGMCfwA=s64",
      "userId": "05155596743294170724"
     },
     "user_tz": 420
    },
    "id": "aYBPyj7AgmQG",
    "outputId": "00ad0b0f-48c2-4618-bead-53fe5efe9d46"
   },
   "outputs": [
    {
     "data": {
      "image/png": "[encoded data removed]",
      "text/plain": [
       "<Figure size 576x360 with 1 Axes>"
      ]
     },
     "metadata": {
      "needs_background": "light",
      "tags": []
     },
     "output_type": "display_data"
    }
   ],
   "source": [
    "plt.plot(history.history['mae'])\n",
    "plt.plot(history.history['val_mae'])\n",
    "\n",
    "max_loss= max(history.history['mae'])+0.1\n",
    "plt.gca().set_ylim(0, max_loss)\n",
    "\n",
    "plt.title('Learning Curve: Mean Absolute Error\\n')\n",
    "plt.ylabel('Mean Absolute Error')\n",
    "plt.xlabel('Epoch')\n",
    "plt.legend(['train', 'validation'])\n",
    "plt.gcf().set_size_inches(8, 5)\n",
    "plt.grid(True)\n",
    "plt.show()"
   ]
  },
  {
   "cell_type": "markdown",
   "metadata": {
    "id": "0_1rD6LQTGvQ"
   },
   "source": [
    "# Q5\n"
   ]
  },
  {
   "cell_type": "markdown",
   "metadata": {
    "id": "P35saWg6u_Qt"
   },
   "source": [
    "## 1 When we train a neural network, we notice that the loss does not decrease in a few starting epochs, what’s the reason for this? What is the strategy to improve?\n",
    "\n",
    "Reason: The learning rate is low, regularization parameter is high, stuck at local minima. <br>\n",
    "Strategy: Jitter the learning rate, i.e. change the learning rate for a few epochs, this can be used to take a neural network out of local minima.\n",
    "\n",
    "Please calculate **X’s min-max normalizations, Z-score normalization, l2 normalization**"
   ]
  },
  {
   "cell_type": "code",
   "execution_count": 18,
   "metadata": {
    "colab": {
     "base_uri": "https://localhost:8080/",
     "height": 391
    },
    "executionInfo": {
     "elapsed": 797,
     "status": "ok",
     "timestamp": 1601397546129,
     "user": {
      "displayName": "Karan Patel",
      "photoUrl": "https://lh3.googleusercontent.com/a-/AOh14Gh6USvrkC1WDJLXABRiiQssfLktpj2vmoGMCfwA=s64",
      "userId": "05155596743294170724"
     },
     "user_tz": 420
    },
    "id": "2mOTRksOoIqn",
    "outputId": "dc22faf6-f364-4fe5-8d50-a93c7835cd8f"
   },
   "outputs": [
    {
     "name": "stdout",
     "output_type": "stream",
     "text": [
      "Data\n",
      "[[ 1. -1.  2.]\n",
      " [ 2.  0.  0.]\n",
      " [ 0.  1. -1.]]\n",
      "-----------------------------------------------\n",
      "Min-Max Normalization\n",
      "-----------------------------------------------\n",
      "[[0.5        0.         1.        ]\n",
      " [1.         0.5        0.33333333]\n",
      " [0.         1.         0.        ]]\n",
      "-----------------------------------------------\n",
      "Z-Score Normalization\n",
      "-----------------------------------------------\n",
      "[[ 0.         -1.22474487  1.33630621]\n",
      " [ 1.22474487  0.         -0.26726124]\n",
      " [-1.22474487  1.22474487 -1.06904497]]\n",
      "-----------------------------------------------\n",
      "l2 Normalization\n",
      "-----------------------------------------------\n",
      "[[ 0.40824829 -0.40824829  0.81649658]\n",
      " [ 1.          0.          0.        ]\n",
      " [ 0.          0.70710678 -0.70710678]]\n"
     ]
    }
   ],
   "source": [
    "import numpy as np\n",
    "from sklearn.preprocessing import MinMaxScaler, normalize\n",
    "from scipy import stats\n",
    "\n",
    "X = np.array([[ 1., -1., 2.],\n",
    "              [ 2., 0., 0.],\n",
    "              [ 0., 1., -1.]])\n",
    "print(\"Data\")\n",
    "print(X)\n",
    "print(\"-----------------------------------------------\")\n",
    "print(\"Min-Max Normalization\")\n",
    "print(\"-----------------------------------------------\")\n",
    "scaler = MinMaxScaler()\n",
    "scaler.fit(X)\n",
    "print(scaler.transform(X))\n",
    "print(\"-----------------------------------------------\")\n",
    "print(\"Z-Score Normalization\")\n",
    "print(\"-----------------------------------------------\")\n",
    "print(stats.zscore(X))\n",
    "print(\"-----------------------------------------------\")\n",
    "print(\"l2 Normalization\")\n",
    "print(\"-----------------------------------------------\")\n",
    "print(normalize(X, norm='l2'))"
   ]
  },
  {
   "cell_type": "markdown",
   "metadata": {
    "id": "_rlPkNzKvDW_"
   },
   "source": [
    "## 2. Transfer Learning\n",
    "The problem is you are trying to train a deep learning model but only a small amount of data is\n",
    "available. Fortunately, there is a pre-trained neural network that was trained on a similar\n",
    "problem. Which one of the following methodologies is the best choice that can make use of this\n",
    "pre-trained network? <br>\n",
    "A. Retrain the model from scratch for the new dataset <br>\n",
    "B. Only fine tune the last couple of layers of the pre-trained model with small learning rate <br>\n",
    "C. Freeze all the layers except the last, and only retrain the last layer <br>\n",
    "D. Assess on every layer how the pre-trained model performs and only select a few of them\n",
    "with respect to their performances"
   ]
  },
  {
   "cell_type": "markdown",
   "metadata": {
    "id": "MHs-237LvmIU"
   },
   "source": [
    "**Ans.** C"
   ]
  },
  {
   "cell_type": "markdown",
   "metadata": {
    "id": "fazC2MvsvZH8"
   },
   "source": [
    "## 3. Please provide at least three learning rate scheduling and briefly describe each of them. "
   ]
  },
  {
   "cell_type": "markdown",
   "metadata": {
    "id": "labOF8FnvuYF"
   },
   "source": [
    "**Ans.** Power scheduling utilizes $\\eta(t) = \\frac{\\eta_{0}}{(1+ t/s)^{c}}  $ as the function of the iteration number t for setting the learning rate. This learning rate scheduling require $\\eta_{0} ,s$ and possibly c for tuning;\n",
    "they are the hyperparameters as well. During each step, the learning rate will drop until it reaches s step, then it is down to $\\frac{\\eta_{0}}{2}$ ; after s more steps, it will be down to then $\\frac{\\eta_{0}}{3}$ then $\\frac{\\eta_{0}}{4}$\n",
    "and so on. Eventually, the drop rate for the learning rate will be changed from fast to gradual.\n",
    "\n",
    "Piecewise constant scheduling focuses on sequences that it requires effort and time to figure out which sequence works the best with less required time. Basically, we can pick a constant learning rate with a number of epochs, then adjust it to a smaller learning rate with a different number of epochs, and so on until the best sequence is selected.\n",
    "\n",
    "Compared to other approaches, 1 cycle scheduling is different that it starts with increasing $\\eta_{0}$ ( the initial learning rate that is selected approximately 10 times lower than $\\eta_{1}$ ), then growing linearly up to $\\eta_{1}$ (using the same method to find the optimal learning rate to seek for the maximum rate of $\\eta_{1}$ ) halfway through training. Next, the learning rate is dropped linearly to $\\eta_{0}$ again during the second half of training. Lastly, we can utilize several linear orders of 0\n",
    "magnitude as the limitation for dropping rate to finish the last few epoches. Basically, we are starting with high momentum, then drop it down to lower momentum, next is to bring it back up to the maximum value, finally finishing it with the maximum value."
   ]
  },
  {
   "cell_type": "markdown",
   "metadata": {
    "id": "7Gv2ORZDTMob"
   },
   "source": [
    "# Q6\n",
    "**(Bonus!, coding assignment 10%)** Practice training a deep neural network on the https://keras.io/api/datasets/fashion_mnist/#load_data-function dataset for fashion style classification task: \n",
    "1. Build a DNN with 10 hidden layers of 30 neurons each. Use He initialization (see Géron A. Hands-on textbook p. 333) and the ELU activation function. Using Nadam optimization and early stopping(see https://machinelearningmastery.com/how-to-stop-training-deep-neural-networks-at-the-right-time-using-early-stopping/), train the network on this fashion MNIST dataset.\n",
    "2. Now try adding Batch Normalization and compare the learning curves: Is it converging faster than before? Does it produce a better model? How does it affect training speed?\n",
    "3. Try replacing Batch Normalization with SELU and make the necessary adjustments to ensure the network self-normalizes (i.e., standardize the input features).\n",
    "4. Try regularizing the model with some dropout and compare model performance. \n",
    "5. Retrain your model using some learning rate scheduling, e.g., 1cycle scheduling, and to compare whether it improves training speed and model accuracy.\n"
   ]
  },
  {
   "cell_type": "markdown",
   "metadata": {
    "id": "GkhjDvvorx7P"
   },
   "source": [
    "##  Importing Librares"
   ]
  },
  {
   "cell_type": "code",
   "execution_count": 65,
   "metadata": {
    "executionInfo": {
     "elapsed": 369,
     "status": "ok",
     "timestamp": 1601500616142,
     "user": {
      "displayName": "Karan Patel",
      "photoUrl": "https://lh3.googleusercontent.com/a-/AOh14Gh6USvrkC1WDJLXABRiiQssfLktpj2vmoGMCfwA=s64",
      "userId": "05155596743294170724"
     },
     "user_tz": 420
    },
    "id": "K_HV3lFXquIv"
   },
   "outputs": [],
   "source": [
    "from tensorflow import keras\n",
    "from keras.models import Sequential\n",
    "from keras.layers import Dense, BatchNormalization, Dropout\n",
    "from keras.initializers import he_normal, lecun_normal\n",
    "from keras.callbacks import EarlyStopping, LearningRateScheduler\n",
    "from keras.optimizers import SGD\n",
    "import matplotlib.pyplot as plt\n",
    "import math"
   ]
  },
  {
   "cell_type": "markdown",
   "metadata": {
    "id": "fUJEg4Flr5UD"
   },
   "source": [
    "## Loading the Data"
   ]
  },
  {
   "cell_type": "code",
   "execution_count": 42,
   "metadata": {
    "colab": {
     "base_uri": "https://localhost:8080/",
     "height": 153
    },
    "executionInfo": {
     "elapsed": 1622,
     "status": "ok",
     "timestamp": 1601497366172,
     "user": {
      "displayName": "Karan Patel",
      "photoUrl": "https://lh3.googleusercontent.com/a-/AOh14Gh6USvrkC1WDJLXABRiiQssfLktpj2vmoGMCfwA=s64",
      "userId": "05155596743294170724"
     },
     "user_tz": 420
    },
    "id": "wHuTRc42q7h1",
    "outputId": "e5c6f40a-e839-4567-dfd2-b5ee383a15f4"
   },
   "outputs": [
    {
     "name": "stdout",
     "output_type": "stream",
     "text": [
      "Downloading data from https://storage.googleapis.com/tensorflow/tf-keras-datasets/train-labels-idx1-ubyte.gz\n",
      "32768/29515 [=================================] - 0s 0us/step\n",
      "Downloading data from https://storage.googleapis.com/tensorflow/tf-keras-datasets/train-images-idx3-ubyte.gz\n",
      "26427392/26421880 [==============================] - 0s 0us/step\n",
      "Downloading data from https://storage.googleapis.com/tensorflow/tf-keras-datasets/t10k-labels-idx1-ubyte.gz\n",
      "8192/5148 [===============================================] - 0s 0us/step\n",
      "Downloading data from https://storage.googleapis.com/tensorflow/tf-keras-datasets/t10k-images-idx3-ubyte.gz\n",
      "4423680/4422102 [==============================] - 0s 0us/step\n"
     ]
    }
   ],
   "source": [
    "(x_train, y_train), (x_test, y_test) = keras.datasets.fashion_mnist.load_data()\n",
    "x_train = x_train.reshape(x_train.shape[0],28*28)\n",
    "x_test = x_test.reshape(x_test.shape[0],28*28)\n",
    "x_train=x_train/255\n",
    "x_test = x_test/255"
   ]
  },
  {
   "cell_type": "markdown",
   "metadata": {
    "id": "42vSyn5bsAIV"
   },
   "source": [
    "## 1. DNN Model"
   ]
  },
  {
   "cell_type": "code",
   "execution_count": 52,
   "metadata": {
    "colab": {
     "base_uri": "https://localhost:8080/",
     "height": 595
    },
    "executionInfo": {
     "elapsed": 36025,
     "status": "ok",
     "timestamp": 1601498690833,
     "user": {
      "displayName": "Karan Patel",
      "photoUrl": "https://lh3.googleusercontent.com/a-/AOh14Gh6USvrkC1WDJLXABRiiQssfLktpj2vmoGMCfwA=s64",
      "userId": "05155596743294170724"
     },
     "user_tz": 420
    },
    "id": "5NYembgnratR",
    "outputId": "8504381f-95fa-467c-a739-aad1097b60ee"
   },
   "outputs": [
    {
     "name": "stdout",
     "output_type": "stream",
     "text": [
      "Epoch 1/20\n",
      "469/469 [==============================] - 2s 5ms/step - loss: 0.6119 - accuracy: 0.7800 - val_loss: 0.4617 - val_accuracy: 0.8334\n",
      "Epoch 2/20\n",
      "469/469 [==============================] - 2s 4ms/step - loss: 0.4096 - accuracy: 0.8499 - val_loss: 0.4473 - val_accuracy: 0.8360\n",
      "Epoch 3/20\n",
      "469/469 [==============================] - 2s 4ms/step - loss: 0.3718 - accuracy: 0.8633 - val_loss: 0.4101 - val_accuracy: 0.8489\n",
      "Epoch 4/20\n",
      "469/469 [==============================] - 2s 4ms/step - loss: 0.3450 - accuracy: 0.8730 - val_loss: 0.3992 - val_accuracy: 0.8530\n",
      "Epoch 5/20\n",
      "469/469 [==============================] - 2s 5ms/step - loss: 0.3298 - accuracy: 0.8781 - val_loss: 0.4178 - val_accuracy: 0.8474\n",
      "Epoch 6/20\n",
      "469/469 [==============================] - 2s 4ms/step - loss: 0.3159 - accuracy: 0.8838 - val_loss: 0.3723 - val_accuracy: 0.8641\n",
      "Epoch 7/20\n",
      "469/469 [==============================] - 2s 4ms/step - loss: 0.3037 - accuracy: 0.8882 - val_loss: 0.3679 - val_accuracy: 0.8642\n",
      "Epoch 8/20\n",
      "469/469 [==============================] - 2s 4ms/step - loss: 0.2935 - accuracy: 0.8918 - val_loss: 0.3654 - val_accuracy: 0.8670\n",
      "Epoch 9/20\n",
      "469/469 [==============================] - 2s 4ms/step - loss: 0.2854 - accuracy: 0.8950 - val_loss: 0.3486 - val_accuracy: 0.8769\n",
      "Epoch 10/20\n",
      "469/469 [==============================] - 2s 4ms/step - loss: 0.2759 - accuracy: 0.8980 - val_loss: 0.3551 - val_accuracy: 0.8729\n",
      "Epoch 11/20\n",
      "469/469 [==============================] - 2s 5ms/step - loss: 0.2694 - accuracy: 0.9003 - val_loss: 0.3450 - val_accuracy: 0.8756\n",
      "Epoch 12/20\n",
      "469/469 [==============================] - 2s 4ms/step - loss: 0.2641 - accuracy: 0.9024 - val_loss: 0.3483 - val_accuracy: 0.8765\n",
      "Epoch 13/20\n",
      "469/469 [==============================] - 2s 4ms/step - loss: 0.2572 - accuracy: 0.9046 - val_loss: 0.3391 - val_accuracy: 0.8812\n",
      "Epoch 14/20\n",
      "469/469 [==============================] - 2s 5ms/step - loss: 0.2515 - accuracy: 0.9065 - val_loss: 0.3568 - val_accuracy: 0.8740\n",
      "Epoch 15/20\n",
      "469/469 [==============================] - 2s 5ms/step - loss: 0.2463 - accuracy: 0.9084 - val_loss: 0.3699 - val_accuracy: 0.8723\n",
      "Epoch 16/20\n",
      "469/469 [==============================] - 2s 5ms/step - loss: 0.2427 - accuracy: 0.9088 - val_loss: 0.3511 - val_accuracy: 0.8776\n",
      "Epoch 00016: early stopping\n"
     ]
    },
    {
     "data": {
      "text/plain": [
       "<tensorflow.python.keras.callbacks.History at 0x7f4c6e784d30>"
      ]
     },
     "execution_count": 52,
     "metadata": {
      "tags": []
     },
     "output_type": "execute_result"
    }
   ],
   "source": [
    "md = Sequential()\n",
    "md.add(Dense(30, activation = 'elu', input_shape = (784,), kernel_initializer = he_normal(seed = None)))\n",
    "md.add(Dense(30, activation = 'elu', kernel_initializer = he_normal(seed = None)))\n",
    "md.add(Dense(30, activation = 'elu', kernel_initializer = he_normal(seed = None)))\n",
    "md.add(Dense(30, activation = 'elu', kernel_initializer = he_normal(seed = None)))\n",
    "md.add(Dense(30, activation = 'elu', kernel_initializer = he_normal(seed = None)))\n",
    "md.add(Dense(30, activation = 'elu', kernel_initializer = he_normal(seed = None)))\n",
    "md.add(Dense(30, activation = 'elu', kernel_initializer = he_normal(seed = None)))\n",
    "md.add(Dense(30, activation = 'elu', kernel_initializer = he_normal(seed = None)))\n",
    "md.add(Dense(30, activation = 'elu', kernel_initializer = he_normal(seed = None)))\n",
    "md.add(Dense(30, activation = 'elu', kernel_initializer = he_normal(seed = None)))\n",
    "md.add(Dense(10, activation = 'softmax'))\n",
    "\n",
    "es = EarlyStopping(monitor='val_loss', mode = 'min', verbose = 1, patience = 3)\n",
    "\n",
    "md.compile(optimizer='nadam', loss='sparse_categorical_crossentropy', metrics=['accuracy'])\n",
    "md.fit(x_train, y_train, epochs = 20, batch_size = 128, validation_data=(x_test, y_test), verbose = 1, callbacks=[es])"
   ]
  },
  {
   "cell_type": "markdown",
   "metadata": {
    "id": "V704z62JsMV8"
   },
   "source": [
    "## 2. Batch Normalization"
   ]
  },
  {
   "cell_type": "code",
   "execution_count": 53,
   "metadata": {
    "colab": {
     "base_uri": "https://localhost:8080/",
     "height": 527
    },
    "executionInfo": {
     "elapsed": 52490,
     "status": "ok",
     "timestamp": 1601498746081,
     "user": {
      "displayName": "Karan Patel",
      "photoUrl": "https://lh3.googleusercontent.com/a-/AOh14Gh6USvrkC1WDJLXABRiiQssfLktpj2vmoGMCfwA=s64",
      "userId": "05155596743294170724"
     },
     "user_tz": 420
    },
    "id": "u58aC9ANsW6u",
    "outputId": "3be975d8-a84d-478f-8de0-bd1d4913546e"
   },
   "outputs": [
    {
     "name": "stdout",
     "output_type": "stream",
     "text": [
      "Epoch 1/20\n",
      "469/469 [==============================] - 4s 8ms/step - loss: 0.5712 - accuracy: 0.8054 - val_loss: 0.4452 - val_accuracy: 0.8408\n",
      "Epoch 2/20\n",
      "469/469 [==============================] - 3s 7ms/step - loss: 0.3932 - accuracy: 0.8581 - val_loss: 0.4150 - val_accuracy: 0.8491\n",
      "Epoch 3/20\n",
      "469/469 [==============================] - 3s 7ms/step - loss: 0.3577 - accuracy: 0.8706 - val_loss: 0.4070 - val_accuracy: 0.8526\n",
      "Epoch 4/20\n",
      "469/469 [==============================] - 3s 7ms/step - loss: 0.3377 - accuracy: 0.8780 - val_loss: 0.3997 - val_accuracy: 0.8564\n",
      "Epoch 5/20\n",
      "469/469 [==============================] - 3s 7ms/step - loss: 0.3201 - accuracy: 0.8841 - val_loss: 0.3822 - val_accuracy: 0.8597\n",
      "Epoch 6/20\n",
      "469/469 [==============================] - 3s 7ms/step - loss: 0.3089 - accuracy: 0.8874 - val_loss: 0.3749 - val_accuracy: 0.8680\n",
      "Epoch 7/20\n",
      "469/469 [==============================] - 3s 7ms/step - loss: 0.2996 - accuracy: 0.8905 - val_loss: 0.3797 - val_accuracy: 0.8647\n",
      "Epoch 8/20\n",
      "469/469 [==============================] - 3s 7ms/step - loss: 0.2882 - accuracy: 0.8942 - val_loss: 0.3657 - val_accuracy: 0.8719\n",
      "Epoch 9/20\n",
      "469/469 [==============================] - 3s 7ms/step - loss: 0.2826 - accuracy: 0.8959 - val_loss: 0.3897 - val_accuracy: 0.8550\n",
      "Epoch 10/20\n",
      "469/469 [==============================] - 3s 7ms/step - loss: 0.2734 - accuracy: 0.8982 - val_loss: 0.3675 - val_accuracy: 0.8726\n",
      "Epoch 11/20\n",
      "469/469 [==============================] - 3s 7ms/step - loss: 0.2668 - accuracy: 0.9021 - val_loss: 0.3584 - val_accuracy: 0.8741\n",
      "Epoch 12/20\n",
      "469/469 [==============================] - 3s 7ms/step - loss: 0.2621 - accuracy: 0.9031 - val_loss: 0.3740 - val_accuracy: 0.8686\n",
      "Epoch 13/20\n",
      "469/469 [==============================] - 3s 7ms/step - loss: 0.2568 - accuracy: 0.9067 - val_loss: 0.3846 - val_accuracy: 0.8663\n",
      "Epoch 14/20\n",
      "469/469 [==============================] - 3s 7ms/step - loss: 0.2508 - accuracy: 0.9078 - val_loss: 0.3707 - val_accuracy: 0.8665\n",
      "Epoch 00014: early stopping\n"
     ]
    },
    {
     "data": {
      "text/plain": [
       "<tensorflow.python.keras.callbacks.History at 0x7f4c6bf57588>"
      ]
     },
     "execution_count": 53,
     "metadata": {
      "tags": []
     },
     "output_type": "execute_result"
    }
   ],
   "source": [
    "md_bn = Sequential()\n",
    "md_bn.add(Dense(30, activation = 'elu', input_shape = (784,)))\n",
    "md_bn.add(BatchNormalization())\n",
    "md_bn.add(Dense(30, activation = 'elu'))\n",
    "md_bn.add(BatchNormalization())\n",
    "md_bn.add(Dense(30, activation = 'elu'))\n",
    "md_bn.add(BatchNormalization())\n",
    "md_bn.add(Dense(30, activation = 'elu'))\n",
    "md_bn.add(BatchNormalization())\n",
    "md_bn.add(Dense(30, activation = 'elu'))\n",
    "md_bn.add(BatchNormalization())\n",
    "md_bn.add(Dense(30, activation = 'elu'))\n",
    "md_bn.add(BatchNormalization())\n",
    "md_bn.add(Dense(30, activation = 'elu'))\n",
    "md_bn.add(BatchNormalization())\n",
    "md_bn.add(Dense(30, activation = 'elu'))\n",
    "md_bn.add(BatchNormalization())\n",
    "md_bn.add(Dense(30, activation = 'elu'))\n",
    "md_bn.add(BatchNormalization())\n",
    "md_bn.add(Dense(30, activation = 'elu'))\n",
    "md_bn.add(BatchNormalization())\n",
    "md_bn.add(Dense(10, activation = 'softmax'))\n",
    "\n",
    "es = EarlyStopping(monitor='val_loss', mode = 'min', verbose = 1, patience = 3)\n",
    "\n",
    "md_bn.compile(optimizer='nadam', loss='sparse_categorical_crossentropy', metrics=['accuracy'])\n",
    "md_bn.fit(x_train, y_train, epochs = 20, batch_size = 128, validation_data=(x_test, y_test), verbose = 1, callbacks=[es])"
   ]
  },
  {
   "cell_type": "markdown",
   "metadata": {
    "id": "DG9NYUvlt3dc"
   },
   "source": [
    "### Comparing DNN Model with Batch Normalization Model"
   ]
  },
  {
   "cell_type": "code",
   "execution_count": 58,
   "metadata": {
    "colab": {
     "base_uri": "https://localhost:8080/",
     "height": 265
    },
    "executionInfo": {
     "elapsed": 492,
     "status": "ok",
     "timestamp": 1601498904554,
     "user": {
      "displayName": "Karan Patel",
      "photoUrl": "https://lh3.googleusercontent.com/a-/AOh14Gh6USvrkC1WDJLXABRiiQssfLktpj2vmoGMCfwA=s64",
      "userId": "05155596743294170724"
     },
     "user_tz": 420
    },
    "id": "Ldt12XqEro4a",
    "outputId": "d9d09277-6779-4959-8ebd-410005198a6e"
   },
   "outputs": [
    {
     "data": {
      "image/png": "[encoded data removed]",
      "text/plain": [
       "<Figure size 432x288 with 1 Axes>"
      ]
     },
     "metadata": {
      "needs_background": "light",
      "tags": []
     },
     "output_type": "display_data"
    }
   ],
   "source": [
    "plt.plot(md.history.history['val_loss'], label = 'Original Model')\n",
    "plt.plot(md_bn.history.history['val_loss'], label = 'With BatchNormlization Model')\n",
    "plt.legend()\n",
    "plt.show()"
   ]
  },
  {
   "cell_type": "markdown",
   "metadata": {
    "id": "QjfvvJMYs8aj"
   },
   "source": [
    "## 3. Selu "
   ]
  },
  {
   "cell_type": "code",
   "execution_count": 55,
   "metadata": {
    "colab": {
     "base_uri": "https://localhost:8080/",
     "height": 459
    },
    "executionInfo": {
     "elapsed": 26538,
     "status": "ok",
     "timestamp": 1601498849119,
     "user": {
      "displayName": "Karan Patel",
      "photoUrl": "https://lh3.googleusercontent.com/a-/AOh14Gh6USvrkC1WDJLXABRiiQssfLktpj2vmoGMCfwA=s64",
      "userId": "05155596743294170724"
     },
     "user_tz": 420
    },
    "id": "HeXQmeUfw-DB",
    "outputId": "7e4b85ee-2f12-4ab8-ab85-414130faeb48"
   },
   "outputs": [
    {
     "name": "stdout",
     "output_type": "stream",
     "text": [
      "Epoch 1/20\n",
      "469/469 [==============================] - 2s 5ms/step - loss: 0.6212 - accuracy: 0.7743 - val_loss: 0.4842 - val_accuracy: 0.8277\n",
      "Epoch 2/20\n",
      "469/469 [==============================] - 2s 4ms/step - loss: 0.4258 - accuracy: 0.8446 - val_loss: 0.4208 - val_accuracy: 0.8464\n",
      "Epoch 3/20\n",
      "469/469 [==============================] - 2s 4ms/step - loss: 0.3862 - accuracy: 0.8578 - val_loss: 0.4089 - val_accuracy: 0.8541\n",
      "Epoch 4/20\n",
      "469/469 [==============================] - 2s 4ms/step - loss: 0.3591 - accuracy: 0.8679 - val_loss: 0.4525 - val_accuracy: 0.8328\n",
      "Epoch 5/20\n",
      "469/469 [==============================] - 2s 4ms/step - loss: 0.3434 - accuracy: 0.8722 - val_loss: 0.3794 - val_accuracy: 0.8635\n",
      "Epoch 6/20\n",
      "469/469 [==============================] - 2s 4ms/step - loss: 0.3319 - accuracy: 0.8769 - val_loss: 0.3635 - val_accuracy: 0.8706\n",
      "Epoch 7/20\n",
      "469/469 [==============================] - 2s 4ms/step - loss: 0.3201 - accuracy: 0.8810 - val_loss: 0.3721 - val_accuracy: 0.8681\n",
      "Epoch 8/20\n",
      "469/469 [==============================] - 2s 4ms/step - loss: 0.3117 - accuracy: 0.8839 - val_loss: 0.3609 - val_accuracy: 0.8712\n",
      "Epoch 9/20\n",
      "469/469 [==============================] - 2s 4ms/step - loss: 0.3035 - accuracy: 0.8872 - val_loss: 0.3598 - val_accuracy: 0.8703\n",
      "Epoch 10/20\n",
      "469/469 [==============================] - 2s 4ms/step - loss: 0.2972 - accuracy: 0.8895 - val_loss: 0.3936 - val_accuracy: 0.8553\n",
      "Epoch 11/20\n",
      "469/469 [==============================] - 2s 4ms/step - loss: 0.2880 - accuracy: 0.8939 - val_loss: 0.3629 - val_accuracy: 0.8730\n",
      "Epoch 12/20\n",
      "469/469 [==============================] - 2s 4ms/step - loss: 0.2838 - accuracy: 0.8942 - val_loss: 0.3672 - val_accuracy: 0.8693\n",
      "Epoch 00012: early stopping\n"
     ]
    },
    {
     "data": {
      "text/plain": [
       "<tensorflow.python.keras.callbacks.History at 0x7f4c6960ecf8>"
      ]
     },
     "execution_count": 55,
     "metadata": {
      "tags": []
     },
     "output_type": "execute_result"
    }
   ],
   "source": [
    "md_selu = Sequential()\n",
    "md_selu.add(Dense(30, activation = 'selu', input_shape = (784,), kernel_initializer = lecun_normal()))\n",
    "md_selu.add(Dense(30, activation = 'selu', kernel_initializer = lecun_normal()))\n",
    "md_selu.add(Dense(30, activation = 'selu', kernel_initializer = lecun_normal()))\n",
    "md_selu.add(Dense(30, activation = 'selu', kernel_initializer = lecun_normal()))\n",
    "md_selu.add(Dense(30, activation = 'selu', kernel_initializer = lecun_normal()))\n",
    "md_selu.add(Dense(30, activation = 'selu', kernel_initializer = lecun_normal()))\n",
    "md_selu.add(Dense(30, activation = 'selu', kernel_initializer = lecun_normal()))\n",
    "md_selu.add(Dense(30, activation = 'selu', kernel_initializer = lecun_normal()))\n",
    "md_selu.add(Dense(30, activation = 'selu', kernel_initializer = lecun_normal()))\n",
    "md_selu.add(Dense(30, activation = 'selu', kernel_initializer = lecun_normal()))\n",
    "md_selu.add(Dense(10, activation = 'softmax'))\n",
    "\n",
    "es = EarlyStopping(monitor='val_loss', mode = 'min', verbose = 1, patience = 3)\n",
    "\n",
    "md_selu.compile(optimizer='nadam', loss='sparse_categorical_crossentropy', metrics=['accuracy'])\n",
    "md_selu.fit(x_train, y_train, epochs = 20, batch_size = 128, validation_data=(x_test, y_test), verbose = 1, callbacks=[es])"
   ]
  },
  {
   "cell_type": "markdown",
   "metadata": {
    "id": "uTcG6bpxxtgz"
   },
   "source": [
    "### Comparing DNN Model with Batch Normalization Model and Selu Model"
   ]
  },
  {
   "cell_type": "code",
   "execution_count": 60,
   "metadata": {
    "colab": {
     "base_uri": "https://localhost:8080/",
     "height": 265
    },
    "executionInfo": {
     "elapsed": 631,
     "status": "ok",
     "timestamp": 1601498984167,
     "user": {
      "displayName": "Karan Patel",
      "photoUrl": "https://lh3.googleusercontent.com/a-/AOh14Gh6USvrkC1WDJLXABRiiQssfLktpj2vmoGMCfwA=s64",
      "userId": "05155596743294170724"
     },
     "user_tz": 420
    },
    "id": "w-UnhqMLxLdu",
    "outputId": "235978be-5e38-4155-99eb-0ddca01f0fe9"
   },
   "outputs": [
    {
     "data": {
      "image/png": "[encoded data removed]",
      "text/plain": [
       "<Figure size 432x288 with 1 Axes>"
      ]
     },
     "metadata": {
      "needs_background": "light",
      "tags": []
     },
     "output_type": "display_data"
    }
   ],
   "source": [
    "plt.plot(md.history.history['val_loss'], label = 'Oiginal Model')\n",
    "plt.plot(md_bn.history.history['val_loss'], label = 'With BatchNormalization Model')\n",
    "plt.plot(md_selu.history.history['val_loss'], label = 'With Selu Model')\n",
    "plt.legend()\n",
    "plt.show()"
   ]
  },
  {
   "cell_type": "markdown",
   "metadata": {
    "id": "31n9erv2x05T"
   },
   "source": [
    "## 4. Dropout Selu "
   ]
  },
  {
   "cell_type": "code",
   "execution_count": 62,
   "metadata": {
    "colab": {
     "base_uri": "https://localhost:8080/",
     "height": 714
    },
    "executionInfo": {
     "elapsed": 50018,
     "status": "ok",
     "timestamp": 1601499102590,
     "user": {
      "displayName": "Karan Patel",
      "photoUrl": "https://lh3.googleusercontent.com/a-/AOh14Gh6USvrkC1WDJLXABRiiQssfLktpj2vmoGMCfwA=s64",
      "userId": "05155596743294170724"
     },
     "user_tz": 420
    },
    "id": "dZOFy1B6xl4k",
    "outputId": "be360e35-fdbf-4777-8452-32d6ae50c7a9"
   },
   "outputs": [
    {
     "name": "stdout",
     "output_type": "stream",
     "text": [
      "Epoch 1/20\n",
      "469/469 [==============================] - 2s 5ms/step - loss: 1.3831 - accuracy: 0.4830 - val_loss: 0.6774 - val_accuracy: 0.7275\n",
      "Epoch 2/20\n",
      "469/469 [==============================] - 2s 5ms/step - loss: 0.8618 - accuracy: 0.6785 - val_loss: 0.6103 - val_accuracy: 0.7640\n",
      "Epoch 3/20\n",
      "469/469 [==============================] - 2s 5ms/step - loss: 0.7447 - accuracy: 0.7333 - val_loss: 0.5780 - val_accuracy: 0.7916\n",
      "Epoch 4/20\n",
      "469/469 [==============================] - 2s 5ms/step - loss: 0.6751 - accuracy: 0.7695 - val_loss: 0.5433 - val_accuracy: 0.8076\n",
      "Epoch 5/20\n",
      "469/469 [==============================] - 2s 5ms/step - loss: 0.6294 - accuracy: 0.7920 - val_loss: 0.5207 - val_accuracy: 0.8224\n",
      "Epoch 6/20\n",
      "469/469 [==============================] - 2s 5ms/step - loss: 0.5963 - accuracy: 0.8073 - val_loss: 0.5012 - val_accuracy: 0.8346\n",
      "Epoch 7/20\n",
      "469/469 [==============================] - 2s 5ms/step - loss: 0.5725 - accuracy: 0.8180 - val_loss: 0.4855 - val_accuracy: 0.8403\n",
      "Epoch 8/20\n",
      "469/469 [==============================] - 2s 5ms/step - loss: 0.5522 - accuracy: 0.8265 - val_loss: 0.5089 - val_accuracy: 0.8382\n",
      "Epoch 9/20\n",
      "469/469 [==============================] - 2s 5ms/step - loss: 0.5396 - accuracy: 0.8328 - val_loss: 0.4803 - val_accuracy: 0.8450\n",
      "Epoch 10/20\n",
      "469/469 [==============================] - 2s 5ms/step - loss: 0.5222 - accuracy: 0.8384 - val_loss: 0.4785 - val_accuracy: 0.8469\n",
      "Epoch 11/20\n",
      "469/469 [==============================] - 2s 5ms/step - loss: 0.5111 - accuracy: 0.8442 - val_loss: 0.4846 - val_accuracy: 0.8487\n",
      "Epoch 12/20\n",
      "469/469 [==============================] - 2s 5ms/step - loss: 0.4975 - accuracy: 0.8472 - val_loss: 0.4692 - val_accuracy: 0.8521\n",
      "Epoch 13/20\n",
      "469/469 [==============================] - 2s 5ms/step - loss: 0.4885 - accuracy: 0.8507 - val_loss: 0.5192 - val_accuracy: 0.8453\n",
      "Epoch 14/20\n",
      "469/469 [==============================] - 2s 5ms/step - loss: 0.4838 - accuracy: 0.8526 - val_loss: 0.4606 - val_accuracy: 0.8523\n",
      "Epoch 15/20\n",
      "469/469 [==============================] - 2s 5ms/step - loss: 0.4775 - accuracy: 0.8540 - val_loss: 0.4584 - val_accuracy: 0.8555\n",
      "Epoch 16/20\n",
      "469/469 [==============================] - 2s 5ms/step - loss: 0.4688 - accuracy: 0.8565 - val_loss: 0.4581 - val_accuracy: 0.8595\n",
      "Epoch 17/20\n",
      "469/469 [==============================] - 2s 5ms/step - loss: 0.4661 - accuracy: 0.8583 - val_loss: 0.4587 - val_accuracy: 0.8567\n",
      "Epoch 18/20\n",
      "469/469 [==============================] - 2s 5ms/step - loss: 0.4542 - accuracy: 0.8615 - val_loss: 0.4705 - val_accuracy: 0.8550\n",
      "Epoch 19/20\n",
      "469/469 [==============================] - 3s 6ms/step - loss: 0.4545 - accuracy: 0.8623 - val_loss: 0.4522 - val_accuracy: 0.8608\n",
      "Epoch 20/20\n",
      "469/469 [==============================] - 3s 6ms/step - loss: 0.4483 - accuracy: 0.8632 - val_loss: 0.4484 - val_accuracy: 0.8602\n"
     ]
    },
    {
     "data": {
      "text/plain": [
       "<tensorflow.python.keras.callbacks.History at 0x7f4c67f0b588>"
      ]
     },
     "execution_count": 62,
     "metadata": {
      "tags": []
     },
     "output_type": "execute_result"
    }
   ],
   "source": [
    "md_dp = Sequential()\n",
    "md_dp.add(Dense(30, activation = 'selu', input_shape = (784,), kernel_initializer = lecun_normal()))\n",
    "md_dp.add(Dense(30, activation = 'selu', kernel_initializer = lecun_normal()))\n",
    "md_dp.add(Dropout(0.2))\n",
    "md_dp.add(Dense(30, activation = 'selu', kernel_initializer = lecun_normal()))\n",
    "md_dp.add(Dropout(0.2))\n",
    "md_dp.add(Dense(30, activation = 'selu', kernel_initializer = lecun_normal()))\n",
    "md_dp.add(Dropout(0.2))\n",
    "md_dp.add(Dense(30, activation = 'selu', kernel_initializer = lecun_normal()))\n",
    "md_dp.add(Dropout(0.2))\n",
    "md_dp.add(Dense(30, activation = 'selu', kernel_initializer = lecun_normal()))\n",
    "md_dp.add(Dropout(0.2))\n",
    "md_dp.add(Dense(30, activation = 'selu', kernel_initializer = lecun_normal()))\n",
    "md_dp.add(Dropout(0.2))\n",
    "md_dp.add(Dense(30, activation = 'selu', kernel_initializer = lecun_normal()))\n",
    "md_dp.add(Dropout(0.2))\n",
    "md_dp.add(Dense(30, activation = 'selu', kernel_initializer = lecun_normal()))\n",
    "md_dp.add(Dropout(0.2))\n",
    "md_dp.add(Dense(30, activation = 'selu', kernel_initializer = lecun_normal()))\n",
    "md_dp.add(Dropout(0.2))\n",
    "md_dp.add(Dense(10, activation = 'softmax'))\n",
    "\n",
    "es = EarlyStopping(monitor='val_loss', mode = 'min', verbose = 1, patience = 3)\n",
    "\n",
    "md_dp.compile(optimizer='nadam', loss='sparse_categorical_crossentropy', metrics=['accuracy'])\n",
    "md_dp.fit(x_train, y_train, epochs = 20, batch_size = 128, validation_data=(x_test, y_test), verbose = 1, callbacks=[es])"
   ]
  },
  {
   "cell_type": "markdown",
   "metadata": {
    "id": "zGAxYsajyi8z"
   },
   "source": [
    "### Comparing Selu Model with and without Dropout\n",
    "\n",
    "\n"
   ]
  },
  {
   "cell_type": "code",
   "execution_count": 64,
   "metadata": {
    "colab": {
     "base_uri": "https://localhost:8080/",
     "height": 265
    },
    "executionInfo": {
     "elapsed": 486,
     "status": "ok",
     "timestamp": 1601500457508,
     "user": {
      "displayName": "Karan Patel",
      "photoUrl": "https://lh3.googleusercontent.com/a-/AOh14Gh6USvrkC1WDJLXABRiiQssfLktpj2vmoGMCfwA=s64",
      "userId": "05155596743294170724"
     },
     "user_tz": 420
    },
    "id": "NyDpK0ciyDni",
    "outputId": "c3c26b2c-cc2f-44de-9a45-adcbba8d9660"
   },
   "outputs": [
    {
     "data": {
      "image/png": "[encoded data removed]",
      "text/plain": [
       "<Figure size 432x288 with 1 Axes>"
      ]
     },
     "metadata": {
      "needs_background": "light",
      "tags": []
     },
     "output_type": "display_data"
    }
   ],
   "source": [
    "plt.plot(md_selu.history.history['val_loss'], label = 'Selu Model')\n",
    "plt.plot(md_dp.history.history['val_loss'], label = 'Selu Model with DropOut')\n",
    "\n",
    "plt.legend()\n",
    "plt.show()"
   ]
  },
  {
   "cell_type": "markdown",
   "metadata": {
    "id": "grPmpDz_3vhY"
   },
   "source": [
    "## 5. Learning Rate Scheduling"
   ]
  },
  {
   "cell_type": "code",
   "execution_count": 68,
   "metadata": {
    "colab": {
     "base_uri": "https://localhost:8080/",
     "height": 714
    },
    "executionInfo": {
     "elapsed": 32990,
     "status": "ok",
     "timestamp": 1601500930274,
     "user": {
      "displayName": "Karan Patel",
      "photoUrl": "https://lh3.googleusercontent.com/a-/AOh14Gh6USvrkC1WDJLXABRiiQssfLktpj2vmoGMCfwA=s64",
      "userId": "05155596743294170724"
     },
     "user_tz": 420
    },
    "id": "EM7wU8YpyT-Y",
    "outputId": "1af22471-d9f4-4659-e3ac-27d77ee69aa5"
   },
   "outputs": [
    {
     "name": "stdout",
     "output_type": "stream",
     "text": [
      "Epoch 1/20\n",
      "469/469 [==============================] - 2s 4ms/step - loss: 0.6207 - accuracy: 0.7744 - val_loss: 0.4993 - val_accuracy: 0.8169\n",
      "Epoch 2/20\n",
      "469/469 [==============================] - 2s 3ms/step - loss: 0.4494 - accuracy: 0.8386 - val_loss: 0.5255 - val_accuracy: 0.8109\n",
      "Epoch 3/20\n",
      "469/469 [==============================] - 2s 3ms/step - loss: 0.4107 - accuracy: 0.8518 - val_loss: 0.4790 - val_accuracy: 0.8304\n",
      "Epoch 4/20\n",
      "469/469 [==============================] - 2s 3ms/step - loss: 0.3878 - accuracy: 0.8595 - val_loss: 0.4208 - val_accuracy: 0.8486\n",
      "Epoch 5/20\n",
      "469/469 [==============================] - 2s 4ms/step - loss: 0.3726 - accuracy: 0.8645 - val_loss: 0.4292 - val_accuracy: 0.8438\n",
      "Epoch 6/20\n",
      "469/469 [==============================] - 2s 4ms/step - loss: 0.3540 - accuracy: 0.8708 - val_loss: 0.4181 - val_accuracy: 0.8490\n",
      "Epoch 7/20\n",
      "469/469 [==============================] - 2s 3ms/step - loss: 0.3476 - accuracy: 0.8722 - val_loss: 0.3832 - val_accuracy: 0.8626\n",
      "Epoch 8/20\n",
      "469/469 [==============================] - 2s 3ms/step - loss: 0.3309 - accuracy: 0.8802 - val_loss: 0.3865 - val_accuracy: 0.8609\n",
      "Epoch 9/20\n",
      "469/469 [==============================] - 2s 3ms/step - loss: 0.3270 - accuracy: 0.8806 - val_loss: 0.4052 - val_accuracy: 0.8579\n",
      "Epoch 10/20\n",
      "469/469 [==============================] - 2s 3ms/step - loss: 0.2971 - accuracy: 0.8901 - val_loss: 0.3715 - val_accuracy: 0.8676\n",
      "Epoch 11/20\n",
      "469/469 [==============================] - 2s 3ms/step - loss: 0.2918 - accuracy: 0.8919 - val_loss: 0.3647 - val_accuracy: 0.8728\n",
      "Epoch 12/20\n",
      "469/469 [==============================] - 1s 3ms/step - loss: 0.2852 - accuracy: 0.8947 - val_loss: 0.3712 - val_accuracy: 0.8683\n",
      "Epoch 13/20\n",
      "469/469 [==============================] - 1s 3ms/step - loss: 0.2824 - accuracy: 0.8961 - val_loss: 0.3596 - val_accuracy: 0.8744\n",
      "Epoch 14/20\n",
      "469/469 [==============================] - 2s 3ms/step - loss: 0.2782 - accuracy: 0.8970 - val_loss: 0.3632 - val_accuracy: 0.8715\n",
      "Epoch 15/20\n",
      "469/469 [==============================] - 2s 3ms/step - loss: 0.2743 - accuracy: 0.8979 - val_loss: 0.3570 - val_accuracy: 0.8741\n",
      "Epoch 16/20\n",
      "469/469 [==============================] - 2s 3ms/step - loss: 0.2724 - accuracy: 0.8996 - val_loss: 0.3566 - val_accuracy: 0.8742\n",
      "Epoch 17/20\n",
      "469/469 [==============================] - 2s 4ms/step - loss: 0.2708 - accuracy: 0.8990 - val_loss: 0.3632 - val_accuracy: 0.8729\n",
      "Epoch 18/20\n",
      "469/469 [==============================] - 2s 3ms/step - loss: 0.2661 - accuracy: 0.9010 - val_loss: 0.3580 - val_accuracy: 0.8725\n",
      "Epoch 19/20\n",
      "469/469 [==============================] - 2s 3ms/step - loss: 0.2608 - accuracy: 0.9029 - val_loss: 0.3525 - val_accuracy: 0.8769\n",
      "Epoch 20/20\n",
      "469/469 [==============================] - 2s 3ms/step - loss: 0.2449 - accuracy: 0.9093 - val_loss: 0.3491 - val_accuracy: 0.8791\n"
     ]
    },
    {
     "data": {
      "text/plain": [
       "<tensorflow.python.keras.callbacks.History at 0x7f4c654f0da0>"
      ]
     },
     "execution_count": 68,
     "metadata": {
      "tags": []
     },
     "output_type": "execute_result"
    }
   ],
   "source": [
    "def decaying(epoch):\n",
    "    initial_lrate = 0.01\n",
    "    drop = 0.5\n",
    "    epochs_drop = 10.0\n",
    "    return initial_lrate * math.pow(drop, math.floor((1+epoch)/epochs_drop))\n",
    "\n",
    "sgd = SGD(lr=0.0, momentum=0.9)\n",
    "\n",
    "md_lr = Sequential()\n",
    "md_lr.add(Dense(30, activation = 'selu', input_shape = (784,), kernel_initializer = lecun_normal()))\n",
    "md_lr.add(Dense(30, activation = 'selu', kernel_initializer = lecun_normal()))\n",
    "md_lr.add(Dense(30, activation = 'selu', kernel_initializer = lecun_normal()))\n",
    "md_lr.add(Dense(30, activation = 'selu', kernel_initializer = lecun_normal()))\n",
    "md_lr.add(Dense(30, activation = 'selu', kernel_initializer = lecun_normal()))\n",
    "md_lr.add(Dense(30, activation = 'selu', kernel_initializer = lecun_normal()))\n",
    "md_lr.add(Dense(30, activation = 'selu', kernel_initializer = lecun_normal()))\n",
    "md_lr.add(Dense(30, activation = 'selu', kernel_initializer = lecun_normal()))\n",
    "md_lr.add(Dense(30, activation = 'selu', kernel_initializer = lecun_normal()))\n",
    "md_lr.add(Dense(30, activation = 'selu', kernel_initializer = lecun_normal()))\n",
    "md_lr.add(Dense(10, activation = 'softmax'))\n",
    "\n",
    "md_lr.compile(optimizer=sgd, loss='sparse_categorical_crossentropy', metrics=['accuracy'])\n",
    "lrate = LearningRateScheduler(decaying)\n",
    "callbacks_list = [lrate]\n",
    "\n",
    "md_lr.fit(x_train, y_train, epochs = 20, batch_size = 128, validation_data=(x_test, y_test), verbose = 1, callbacks=callbacks_list)"
   ]
  },
  {
   "cell_type": "markdown",
   "metadata": {
    "id": "EQxR_n7F4xoU"
   },
   "source": [
    "### Comparing Selu Model with Learning Rate Model"
   ]
  },
  {
   "cell_type": "code",
   "execution_count": 69,
   "metadata": {
    "colab": {
     "base_uri": "https://localhost:8080/",
     "height": 265
    },
    "executionInfo": {
     "elapsed": 1135,
     "status": "ok",
     "timestamp": 1601501035750,
     "user": {
      "displayName": "Karan Patel",
      "photoUrl": "https://lh3.googleusercontent.com/a-/AOh14Gh6USvrkC1WDJLXABRiiQssfLktpj2vmoGMCfwA=s64",
      "userId": "05155596743294170724"
     },
     "user_tz": 420
    },
    "id": "s6OQ9M0u4k0f",
    "outputId": "b7f28349-ef5f-4682-ec12-e7d24d3fa2d2"
   },
   "outputs": [
    {
     "data": {
      "image/png": "[encoded data removed]",
      "text/plain": [
       "<Figure size 432x288 with 1 Axes>"
      ]
     },
     "metadata": {
      "needs_background": "light",
      "tags": []
     },
     "output_type": "display_data"
    }
   ],
   "source": [
    "plt.plot(md_selu.history.history['val_loss'], label = 'Selu Model')\n",
    "plt.plot(md_lr.history.history['val_loss'], label = 'Learning Rate Model')\n",
    "\n",
    "plt.legend()\n",
    "plt.show()"
   ]
  }
 ],
 "metadata": {
  "colab": {
   "authorship_tag": "ABX9TyMo4wi8GXf0clHSgO+1+Du0",
   "name": "HW_2.ipynb",
   "provenance": []
  },
  "kernelspec": {
   "display_name": "Python 3",
   "language": "python",
   "name": "python3"
  },
  "language_info": {
   "codemirror_mode": {
    "name": "ipython",
    "version": 3
   },
   "file_extension": ".py",
   "mimetype": "text/x-python",
   "name": "python",
   "nbconvert_exporter": "python",
   "pygments_lexer": "ipython3",
   "version": "3.7.3"
  }
 },
 "nbformat": 4,
 "nbformat_minor": 1
}
