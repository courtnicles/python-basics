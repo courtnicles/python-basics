{
 "cells": [
  {
   "cell_type": "markdown",
   "metadata": {},
   "source": [
    "# Homework 4-2"
   ]
  },
  {
   "cell_type": "markdown",
   "metadata": {},
   "source": [
    "DATA200 Courtney Nguyen\n"
   ]
  },
  {
   "cell_type": "code",
   "execution_count": 1,
   "metadata": {},
   "outputs": [],
   "source": [
    "import json\n",
    "import csv\n",
    "import urllib\n",
    "from operator import *"
   ]
  },
  {
   "cell_type": "markdown",
   "metadata": {},
   "source": [
    "### 2i. Daily weather data for San Francisco and filter out created date of 10/01/2019"
   ]
  },
  {
   "cell_type": "code",
   "execution_count": 2,
   "metadata": {},
   "outputs": [],
   "source": [
    "day = \"https://www.metaweather.com/api/location/2487956/2019/09/30\"\n",
    "weather_read = (urllib.request.urlopen(day)).read()\n",
    "data_str = weather_read.decode(\"utf-8\") \n",
    "data = json.loads(data_str)"
   ]
  },
  {
   "cell_type": "code",
   "execution_count": 3,
   "metadata": {
    "scrolled": true
   },
   "outputs": [
    {
     "name": "stdout",
     "output_type": "stream",
     "text": [
      "[{'created': '2019-09-30', 'applicable_date': '2019-09-30', 'the_temp': 16.615000000000002, 'air_pressure': 1011.655, 'humidity': 65}, {'created': '2019-09-30', 'applicable_date': '2019-09-30', 'the_temp': 20.36, 'air_pressure': 1015.0450000000001, 'humidity': 63}, {'created': '2019-09-30', 'applicable_date': '2019-09-30', 'the_temp': 20.3, 'air_pressure': 1015.0450000000001, 'humidity': 62}, {'created': '2019-09-30', 'applicable_date': '2019-09-30', 'the_temp': 12.94, 'air_pressure': 1014.3299999999999, 'humidity': 70}, {'created': '2019-09-30', 'applicable_date': '2019-09-30', 'the_temp': 13.209999999999999, 'air_pressure': 1014.3299999999999, 'humidity': 70}, {'created': '2019-09-30', 'applicable_date': '2019-09-30', 'the_temp': 14.965, 'air_pressure': 1014.11, 'humidity': 71}, {'created': '2019-09-30', 'applicable_date': '2019-09-30', 'the_temp': 14.805, 'air_pressure': 1014.11, 'humidity': 75}, {'created': '2019-09-30', 'applicable_date': '2019-09-30', 'the_temp': 17.155, 'air_pressure': 1014.94, 'humidity': 68}, {'created': '2019-09-29', 'applicable_date': '2019-09-30', 'the_temp': 17.42, 'air_pressure': 1014.94, 'humidity': 68}, {'created': '2019-09-29', 'applicable_date': '2019-09-30', 'the_temp': 17.14, 'air_pressure': 1014.9649999999999, 'humidity': 69}, {'created': '2019-09-29', 'applicable_date': '2019-09-30', 'the_temp': 16.990000000000002, 'air_pressure': 1014.9649999999999, 'humidity': 69}, {'created': '2019-09-29', 'applicable_date': '2019-09-30', 'the_temp': 17.3, 'air_pressure': 1015.765, 'humidity': 67}, {'created': '2019-09-29', 'applicable_date': '2019-09-30', 'the_temp': 17.66, 'air_pressure': 1015.765, 'humidity': 66}, {'created': '2019-09-29', 'applicable_date': '2019-09-30', 'the_temp': 18.435000000000002, 'air_pressure': 1015.11, 'humidity': 64}, {'created': '2019-09-29', 'applicable_date': '2019-09-30', 'the_temp': 18.21, 'air_pressure': 1014.61, 'humidity': 64}, {'created': '2019-09-29', 'applicable_date': '2019-09-30', 'the_temp': 15.16, 'air_pressure': 1015.375, 'humidity': 74}, {'created': '2019-09-28', 'applicable_date': '2019-09-30', 'the_temp': 15.45, 'air_pressure': 1015.375, 'humidity': 74}, {'created': '2019-09-28', 'applicable_date': '2019-09-30', 'the_temp': 15.445, 'air_pressure': 1015.155, 'humidity': 73}, {'created': '2019-09-28', 'applicable_date': '2019-09-30', 'the_temp': 15.215, 'air_pressure': 1015.155, 'humidity': 73}, {'created': '2019-09-28', 'applicable_date': '2019-09-30', 'the_temp': 16.14, 'air_pressure': 1015.63, 'humidity': 74}, {'created': '2019-09-28', 'applicable_date': '2019-09-30', 'the_temp': 16.535, 'air_pressure': 1015.63, 'humidity': 74}, {'created': '2019-09-28', 'applicable_date': '2019-09-30', 'the_temp': 17.23, 'air_pressure': 1015.06, 'humidity': 72}, {'created': '2019-09-28', 'applicable_date': '2019-09-30', 'the_temp': 16.985, 'air_pressure': 1015.06, 'humidity': 73}, {'created': '2019-09-28', 'applicable_date': '2019-09-30', 'the_temp': 17.520000000000003, 'air_pressure': 1015.145, 'humidity': 66}, {'created': '2019-09-27', 'applicable_date': '2019-09-30', 'the_temp': 18.049999999999997, 'air_pressure': 1014.74, 'humidity': 63}, {'created': '2019-09-27', 'applicable_date': '2019-09-30', 'the_temp': 17.985, 'air_pressure': 1014.74, 'humidity': 64}, {'created': '2019-09-27', 'applicable_date': '2019-09-30', 'the_temp': 17.765, 'air_pressure': 1015.24, 'humidity': 64}, {'created': '2019-09-27', 'applicable_date': '2019-09-30', 'the_temp': 16.305, 'air_pressure': 1015.48, 'humidity': 75}, {'created': '2019-09-27', 'applicable_date': '2019-09-30', 'the_temp': 16.56, 'air_pressure': 1015.48, 'humidity': 75}, {'created': '2019-09-27', 'applicable_date': '2019-09-30', 'the_temp': 18.08, 'air_pressure': 1015.155, 'humidity': 68}, {'created': '2019-09-27', 'applicable_date': '2019-09-30', 'the_temp': 17.880000000000003, 'air_pressure': 1015.655, 'humidity': 68}, {'created': '2019-09-27', 'applicable_date': '2019-09-30', 'the_temp': 16.82, 'air_pressure': 1014.6700000000001, 'humidity': 69}, {'created': '2019-09-26', 'applicable_date': '2019-09-30', 'the_temp': 17.189999999999998, 'air_pressure': 1014.6700000000001, 'humidity': 68}, {'created': '2019-09-26', 'applicable_date': '2019-09-30', 'the_temp': 17.955, 'air_pressure': 1014.5450000000001, 'humidity': 64}, {'created': '2019-09-26', 'applicable_date': '2019-09-30', 'the_temp': 17.75, 'air_pressure': 1014.5450000000001, 'humidity': 65}, {'created': '2019-09-26', 'applicable_date': '2019-09-30', 'the_temp': 17.03, 'air_pressure': 1014.9300000000001, 'humidity': 67}, {'created': '2019-09-26', 'applicable_date': '2019-09-30', 'the_temp': 17.46, 'air_pressure': 1015.4300000000001, 'humidity': 65}, {'created': '2019-09-26', 'applicable_date': '2019-09-30', 'the_temp': 18.06, 'air_pressure': 1014.5, 'humidity': 70}, {'created': '2019-09-26', 'applicable_date': '2019-09-30', 'the_temp': 18.06, 'air_pressure': 1014.5, 'humidity': 71}, {'created': '2019-09-26', 'applicable_date': '2019-09-30', 'the_temp': 16.13, 'air_pressure': 1013.53, 'humidity': 73}, {'created': '2019-09-25', 'applicable_date': '2019-09-30', 'the_temp': 16.13, 'air_pressure': 1013.53, 'humidity': 73}, {'created': '2019-09-25', 'applicable_date': '2019-09-30', 'the_temp': 13.25, 'air_pressure': 1013.55, 'humidity': 83}, {'created': '2019-09-25', 'applicable_date': '2019-09-30', 'the_temp': 13.25, 'air_pressure': 1013.55, 'humidity': 83}, {'created': '2019-09-25', 'applicable_date': '2019-09-30', 'the_temp': 16.65, 'air_pressure': 1014.69, 'humidity': 73}, {'created': '2019-09-25', 'applicable_date': '2019-09-30', 'the_temp': 16.65, 'air_pressure': 1014.69, 'humidity': 74}, {'created': '2019-09-25', 'applicable_date': '2019-09-30', 'the_temp': 16.77, 'air_pressure': 1014.34, 'humidity': 75}, {'created': '2019-09-25', 'applicable_date': '2019-09-30', 'the_temp': 16.77, 'air_pressure': 1014.34, 'humidity': 75}, {'created': '2019-09-25', 'applicable_date': '2019-09-30', 'the_temp': 16.25, 'air_pressure': 1013.27, 'humidity': 77}, {'created': '2019-09-24', 'applicable_date': '2019-09-30', 'the_temp': 16.25, 'air_pressure': 1013.27, 'humidity': 77}, {'created': '2019-09-24', 'applicable_date': '2019-09-30', 'the_temp': 13.68, 'air_pressure': 1014.21, 'humidity': 81}, {'created': '2019-09-24', 'applicable_date': '2019-09-30', 'the_temp': 13.68, 'air_pressure': 1014.21, 'humidity': 81}, {'created': '2019-09-24', 'applicable_date': '2019-09-30', 'the_temp': 15.17, 'air_pressure': 1014.87, 'humidity': 77}, {'created': '2019-09-24', 'applicable_date': '2019-09-30', 'the_temp': 15.17, 'air_pressure': 1014.87, 'humidity': 77}, {'created': '2019-09-24', 'applicable_date': '2019-09-30', 'the_temp': 15.26, 'air_pressure': 1014.34, 'humidity': 77}, {'created': '2019-09-24', 'applicable_date': '2019-09-30', 'the_temp': 15.26, 'air_pressure': 1014.34, 'humidity': 75}, {'created': '2019-09-24', 'applicable_date': '2019-09-30', 'the_temp': 14.73, 'air_pressure': 1014.32, 'humidity': 71}, {'created': '2019-09-23', 'applicable_date': '2019-09-30', 'the_temp': 14.73, 'air_pressure': 1014.32, 'humidity': 71}, {'created': '2019-09-23', 'applicable_date': '2019-09-30', 'the_temp': 14.4, 'air_pressure': 1014.84, 'humidity': 68}, {'created': '2019-09-23', 'applicable_date': '2019-09-30', 'the_temp': 14.4, 'air_pressure': 1014.84, 'humidity': 68}, {'created': '2019-09-23', 'applicable_date': '2019-09-30', 'the_temp': 15.65, 'air_pressure': 1014.37, 'humidity': 83}, {'created': '2019-09-23', 'applicable_date': '2019-09-30', 'the_temp': 15.65, 'air_pressure': 1014.37, 'humidity': 83}, {'created': '2019-09-23', 'applicable_date': '2019-09-30', 'the_temp': 15.45, 'air_pressure': 1014.36, 'humidity': 83}, {'created': '2019-09-23', 'applicable_date': '2019-09-30', 'the_temp': 15.45, 'air_pressure': 1014.36, 'humidity': 83}, {'created': '2019-09-23', 'applicable_date': '2019-09-30', 'the_temp': 14.75, 'air_pressure': 1013.96, 'humidity': 84}, {'created': '2019-09-22', 'applicable_date': '2019-09-30', 'the_temp': 14.75, 'air_pressure': 1013.96, 'humidity': 84}, {'created': '2019-09-22', 'applicable_date': '2019-09-30', 'the_temp': 13.18, 'air_pressure': 1014.21, 'humidity': 83}, {'created': '2019-09-22', 'applicable_date': '2019-09-30', 'the_temp': 13.18, 'air_pressure': 1014.21, 'humidity': 83}, {'created': '2019-09-22', 'applicable_date': '2019-09-30', 'the_temp': 17.95, 'air_pressure': 1014.67, 'humidity': 55}, {'created': '2019-09-22', 'applicable_date': '2019-09-30', 'the_temp': 17.95, 'air_pressure': 1014.67, 'humidity': 55}]\n"
     ]
    }
   ],
   "source": [
    "weather_by_day = []\n",
    "for i in data:\n",
    "    if i['created'].startswith('2019-10-01'):\n",
    "        pass\n",
    "    else: \n",
    "        weather_by_day.append({'created' : i['created'][0:10], 'applicable_date': i['applicable_date'],\n",
    "                               'the_temp': i['the_temp'], 'air_pressure': i['air_pressure'], 'humidity': i['humidity']})\n",
    "print(weather_by_day)"
   ]
  },
  {
   "cell_type": "markdown",
   "metadata": {},
   "source": [
    "### 2ii. Write results to csv file"
   ]
  },
  {
   "cell_type": "code",
   "execution_count": 4,
   "metadata": {},
   "outputs": [],
   "source": [
    "out_file = 'sf_2019_09-30_data.csv'\n",
    "header = ['created', 'applicable_date', 'the_temp', 'air_pressure', 'humidity']\n",
    "with open(out_file, 'w', newline='') as f:\n",
    "    writer = csv.writer(f)\n",
    "    writer.writerow(header)\n",
    "    for i in weather_by_day:\n",
    "        writer.writerow((i['created'], i['applicable_date'], i['the_temp'], i['air_pressure'], i['humidity']))"
   ]
  },
  {
   "cell_type": "markdown",
   "metadata": {},
   "source": [
    "### 2iii. groupby average values by created date"
   ]
  },
  {
   "cell_type": "markdown",
   "metadata": {},
   "source": [
    "#### List of forecast and average values for temp, air pressure, and humidity"
   ]
  },
  {
   "cell_type": "code",
   "execution_count": 5,
   "metadata": {},
   "outputs": [],
   "source": [
    "import itertools"
   ]
  },
  {
   "cell_type": "code",
   "execution_count": 6,
   "metadata": {},
   "outputs": [
    {
     "name": "stdout",
     "output_type": "stream",
     "text": [
      "{'created': '2019-09-22', 'list of actual temp': (14.75, 13.18, 13.18, 17.95, 17.95), 'list of actual air_pressure': (1013.96, 1014.21, 1014.21, 1014.67, 1014.67), 'list of actual humidity': (84, 83, 83, 55, 55), 'avg_temp': 15.402000000000001, 'avg_air': 1014.344, 'avg_humidity': 72.0}\n",
      "{'created': '2019-09-23', 'list of actual temp': (14.73, 14.4, 14.4, 15.65, 15.65, 15.45, 15.45, 14.75), 'list of actual air_pressure': (1014.32, 1014.84, 1014.84, 1014.37, 1014.37, 1014.36, 1014.36, 1013.96), 'list of actual humidity': (71, 68, 68, 83, 83, 83, 83, 84), 'avg_temp': 15.06, 'avg_air': 1014.4274999999999, 'avg_humidity': 77.875}\n",
      "{'created': '2019-09-24', 'list of actual temp': (16.25, 13.68, 13.68, 15.17, 15.17, 15.26, 15.26, 14.73), 'list of actual air_pressure': (1013.27, 1014.21, 1014.21, 1014.87, 1014.87, 1014.34, 1014.34, 1014.32), 'list of actual humidity': (77, 81, 81, 77, 77, 77, 75, 71), 'avg_temp': 14.900000000000002, 'avg_air': 1014.30375, 'avg_humidity': 77.0}\n",
      "{'created': '2019-09-25', 'list of actual temp': (16.13, 13.25, 13.25, 16.65, 16.65, 16.77, 16.77, 16.25), 'list of actual air_pressure': (1013.53, 1013.55, 1013.55, 1014.69, 1014.69, 1014.34, 1014.34, 1013.27), 'list of actual humidity': (73, 83, 83, 73, 74, 75, 75, 77), 'avg_temp': 15.714999999999998, 'avg_air': 1013.9950000000001, 'avg_humidity': 76.625}\n",
      "{'created': '2019-09-26', 'list of actual temp': (17.189999999999998, 17.955, 17.75, 17.03, 17.46, 18.06, 18.06, 16.13), 'list of actual air_pressure': (1014.6700000000001, 1014.5450000000001, 1014.5450000000001, 1014.9300000000001, 1015.4300000000001, 1014.5, 1014.5, 1013.53), 'list of actual humidity': (68, 64, 65, 67, 65, 70, 71, 73), 'avg_temp': 17.454375, 'avg_air': 1014.5812500000001, 'avg_humidity': 67.875}\n",
      "{'created': '2019-09-27', 'list of actual temp': (18.049999999999997, 17.985, 17.765, 16.305, 16.56, 18.08, 17.880000000000003, 16.82), 'list of actual air_pressure': (1014.74, 1014.74, 1015.24, 1015.48, 1015.48, 1015.155, 1015.655, 1014.6700000000001), 'list of actual humidity': (63, 64, 64, 75, 75, 68, 68, 69), 'avg_temp': 17.430625, 'avg_air': 1015.145, 'avg_humidity': 68.25}\n",
      "{'created': '2019-09-28', 'list of actual temp': (15.45, 15.445, 15.215, 16.14, 16.535, 17.23, 16.985, 17.520000000000003), 'list of actual air_pressure': (1015.375, 1015.155, 1015.155, 1015.63, 1015.63, 1015.06, 1015.06, 1015.145), 'list of actual humidity': (74, 73, 73, 74, 74, 72, 73, 66), 'avg_temp': 16.315, 'avg_air': 1015.2762499999999, 'avg_humidity': 72.375}\n",
      "{'created': '2019-09-29', 'list of actual temp': (17.42, 17.14, 16.990000000000002, 17.3, 17.66, 18.435000000000002, 18.21, 15.16), 'list of actual air_pressure': (1014.94, 1014.9649999999999, 1014.9649999999999, 1015.765, 1015.765, 1015.11, 1014.61, 1015.375), 'list of actual humidity': (68, 69, 69, 67, 66, 64, 64, 74), 'avg_temp': 17.289375, 'avg_air': 1015.1868749999999, 'avg_humidity': 67.625}\n",
      "{'created': '2019-09-30', 'list of actual temp': (16.615000000000002, 20.36, 20.3, 12.94, 13.209999999999999, 14.965, 14.805, 17.155), 'list of actual air_pressure': (1011.655, 1015.0450000000001, 1015.0450000000001, 1014.3299999999999, 1014.3299999999999, 1014.11, 1014.11, 1014.94), 'list of actual humidity': (65, 63, 62, 70, 70, 71, 75, 68), 'avg_temp': 16.29375, 'avg_air': 1014.1956249999998, 'avg_humidity': 68.0}\n"
     ]
    }
   ],
   "source": [
    "groupby_list = []\n",
    "grouper = itemgetter(\"created\")\n",
    "for k, g in itertools.groupby(sorted(weather_by_day, key = grouper), grouper):\n",
    "    entries = [(item['the_temp'], item['air_pressure'], item['humidity']) for item in g]\n",
    "    sums = [(x, sum(x)/float(len(entries))) for x in zip(*entries)]\n",
    "    row = [k] + list(itertools.chain.from_iterable(zip(*sums)))\n",
    "    temp_dict = {}\n",
    "    temp_dict['created'] = row[0]\n",
    "    temp_dict['list of actual temp'] = row[1]\n",
    "    temp_dict['list of actual air_pressure'] = row[2]    \n",
    "    temp_dict['list of actual humidity'] = row[3]    \n",
    "    temp_dict['avg_temp'] = row[4]    \n",
    "    temp_dict['avg_air'] = row[5]    \n",
    "    temp_dict['avg_humidity'] = row[6]    \n",
    "    groupby_list.append(temp_dict)\n",
    "for i in groupby_list:\n",
    "    print(i)"
   ]
  },
  {
   "cell_type": "markdown",
   "metadata": {},
   "source": [
    "#### Saved forecast and average values for temp, air pressure, and humidity to csv"
   ]
  },
  {
   "cell_type": "code",
   "execution_count": 7,
   "metadata": {},
   "outputs": [],
   "source": [
    "out_file_2 = 'groupby.csv'\n",
    "header = [\"created_date\", \"list of_temp\", \"list of air_pressure\", \"list of humidity\", \"avg_temp\", \"avg_air\", \"avg_humidity\"]\n",
    "with open('out_file_2', 'w', newline='') as f_output:\n",
    "        csv_output = csv.writer(f_output)\n",
    "        csv_output.writerow(header)\n",
    "        \n",
    "        grouper = itemgetter(\"created\")\n",
    "        for k, g in itertools.groupby(sorted(weather_by_day, key = grouper), grouper):\n",
    "            entries = [(item['the_temp'], item['air_pressure'], item['humidity']) for item in g]\n",
    "            sums = [(x, sum(x)/float(len(entries))) for x in zip(*entries)]\n",
    "            row = [k] + list(itertools.chain.from_iterable(zip(*sums)))\n",
    "            csv_output.writerow(row)            "
   ]
  },
  {
   "cell_type": "markdown",
   "metadata": {},
   "source": [
    "### 2iv. Write average values by created date to csv file"
   ]
  },
  {
   "cell_type": "code",
   "execution_count": 8,
   "metadata": {},
   "outputs": [],
   "source": [
    "header = [\"created_date\", \"avg_temp\", \"avg_air\", \"avg_humidity\"]\n",
    "with open('averages.csv', 'w', newline='') as f_output:\n",
    "        csv_output = csv.writer(f_output)\n",
    "        csv_output.writerow(header)\n",
    "        \n",
    "        grouper = itemgetter(\"created\")\n",
    "        for k, g in itertools.groupby(sorted(weather_by_day, key = grouper, reverse=True), grouper):\n",
    "            entries = [(item['the_temp'], item['air_pressure'], item['humidity']) for item in g]\n",
    "            sums = [(sum(x)/float(len(entries))) for x in zip(*entries)]\n",
    "            formatted_sums = [ '%.2f' % elem for elem in sums ]\n",
    "            row = [k] + list(formatted_sums)\n",
    "            csv_output.writerow(row)            "
   ]
  },
  {
   "cell_type": "code",
   "execution_count": null,
   "metadata": {},
   "outputs": [],
   "source": []
  },
  {
   "cell_type": "code",
   "execution_count": null,
   "metadata": {},
   "outputs": [],
   "source": []
  }
 ],
 "metadata": {
  "kernelspec": {
   "display_name": "Python 3",
   "language": "python",
   "name": "python3"
  },
  "language_info": {
   "codemirror_mode": {
    "name": "ipython",
    "version": 3
   },
   "file_extension": ".py",
   "mimetype": "text/x-python",
   "name": "python",
   "nbconvert_exporter": "python",
   "pygments_lexer": "ipython3",
   "version": "3.7.3"
  }
 },
 "nbformat": 4,
 "nbformat_minor": 2
}
